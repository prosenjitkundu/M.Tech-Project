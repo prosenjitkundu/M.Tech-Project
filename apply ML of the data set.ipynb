{
 "cells": [
  {
   "cell_type": "code",
   "execution_count": 33,
   "id": "5105bf21",
   "metadata": {},
   "outputs": [],
   "source": [
    "import pandas as pd\n",
    "import matplotlib.pyplot as plt\n",
    "%matplotlib inline\n",
    "import numpy as np\n",
    "import seaborn as sns\n",
    "from sklearn.preprocessing import MinMaxScaler\n",
    "from sklearn.model_selection import train_test_split\n",
    "import os\n",
    "from sklearn.preprocessing import LabelEncoder\n",
    "import keras"
   ]
  },
  {
   "cell_type": "markdown",
   "id": "7670ea7c",
   "metadata": {},
   "source": [
    "# Merging all csv files"
   ]
  },
  {
   "cell_type": "code",
   "execution_count": 34,
   "id": "2b14d86b",
   "metadata": {},
   "outputs": [],
   "source": [
    "df = pd.concat(map(pd.read_csv, ['Cancer.csv', 'Nodule.csv', 'Paralysis.csv', 'Polyp.csv']), ignore_index=True)"
   ]
  },
  {
   "cell_type": "code",
   "execution_count": 35,
   "id": "d582b5d6",
   "metadata": {},
   "outputs": [
    {
     "data": {
      "text/html": [
       "<div>\n",
       "<style scoped>\n",
       "    .dataframe tbody tr th:only-of-type {\n",
       "        vertical-align: middle;\n",
       "    }\n",
       "\n",
       "    .dataframe tbody tr th {\n",
       "        vertical-align: top;\n",
       "    }\n",
       "\n",
       "    .dataframe thead th {\n",
       "        text-align: right;\n",
       "    }\n",
       "</style>\n",
       "<table border=\"1\" class=\"dataframe\">\n",
       "  <thead>\n",
       "    <tr style=\"text-align: right;\">\n",
       "      <th></th>\n",
       "      <th>Unnamed: 0</th>\n",
       "      <th>Jitter</th>\n",
       "      <th>CloseQuotient</th>\n",
       "      <th>SpeedQuotient</th>\n",
       "      <th>Phase</th>\n",
       "      <th>vowels</th>\n",
       "      <th>Target</th>\n",
       "    </tr>\n",
       "  </thead>\n",
       "  <tbody>\n",
       "    <tr>\n",
       "      <th>0</th>\n",
       "      <td>0</td>\n",
       "      <td>0.037614</td>\n",
       "      <td>0.937500</td>\n",
       "      <td>0.483871</td>\n",
       "      <td>16</td>\n",
       "      <td>a</td>\n",
       "      <td>Cancer</td>\n",
       "    </tr>\n",
       "    <tr>\n",
       "      <th>1</th>\n",
       "      <td>1</td>\n",
       "      <td>0.036742</td>\n",
       "      <td>0.963636</td>\n",
       "      <td>0.913793</td>\n",
       "      <td>275</td>\n",
       "      <td>a</td>\n",
       "      <td>Cancer</td>\n",
       "    </tr>\n",
       "    <tr>\n",
       "      <th>2</th>\n",
       "      <td>2</td>\n",
       "      <td>0.037614</td>\n",
       "      <td>0.975379</td>\n",
       "      <td>0.948435</td>\n",
       "      <td>528</td>\n",
       "      <td>a</td>\n",
       "      <td>Cancer</td>\n",
       "    </tr>\n",
       "    <tr>\n",
       "      <th>3</th>\n",
       "      <td>3</td>\n",
       "      <td>0.038776</td>\n",
       "      <td>0.996188</td>\n",
       "      <td>0.977556</td>\n",
       "      <td>787</td>\n",
       "      <td>a</td>\n",
       "      <td>Cancer</td>\n",
       "    </tr>\n",
       "    <tr>\n",
       "      <th>4</th>\n",
       "      <td>4</td>\n",
       "      <td>0.039211</td>\n",
       "      <td>0.996205</td>\n",
       "      <td>0.982226</td>\n",
       "      <td>1054</td>\n",
       "      <td>a</td>\n",
       "      <td>Cancer</td>\n",
       "    </tr>\n",
       "  </tbody>\n",
       "</table>\n",
       "</div>"
      ],
      "text/plain": [
       "   Unnamed: 0    Jitter  CloseQuotient  SpeedQuotient  Phase vowels  Target\n",
       "0           0  0.037614       0.937500       0.483871     16      a  Cancer\n",
       "1           1  0.036742       0.963636       0.913793    275      a  Cancer\n",
       "2           2  0.037614       0.975379       0.948435    528      a  Cancer\n",
       "3           3  0.038776       0.996188       0.977556    787      a  Cancer\n",
       "4           4  0.039211       0.996205       0.982226   1054      a  Cancer"
      ]
     },
     "execution_count": 35,
     "metadata": {},
     "output_type": "execute_result"
    }
   ],
   "source": [
    "df.head()"
   ]
  },
  {
   "cell_type": "code",
   "execution_count": 36,
   "id": "7a314009",
   "metadata": {},
   "outputs": [],
   "source": [
    "df=df.iloc[:,1:]"
   ]
  },
  {
   "cell_type": "code",
   "execution_count": 37,
   "id": "ea7a6328",
   "metadata": {},
   "outputs": [],
   "source": [
    "def plots(df, var, t):\n",
    "    plt.figure(figsize=(13,5))\n",
    "    plt.subplot(121)\n",
    "    sns.kdeplot(df[var])\n",
    "    plt.title('before ' + str(t).split('(')[0])\n",
    "    \n",
    "    plt.subplot(122)\n",
    "    p1 = t.fit_transform(df[[var]]).flatten()\n",
    "    sns.kdeplot(p1)\n",
    "    plt.title('after ' + str(t).split('(')[0])"
   ]
  },
  {
   "cell_type": "code",
   "execution_count": 8,
   "id": "483792a8",
   "metadata": {},
   "outputs": [
    {
     "data": {
      "image/png": "[encoded data removed]",
      "text/plain": [
       "<Figure size 936x360 with 2 Axes>"
      ]
     },
     "metadata": {
      "needs_background": "light"
     },
     "output_type": "display_data"
    }
   ],
   "source": [
    "plots(df, 'Phase', MaxAbsScaler())"
   ]
  },
  {
   "cell_type": "markdown",
   "id": "1b32bab4",
   "metadata": {},
   "source": [
    "# Scaling the data"
   ]
  },
  {
   "cell_type": "code",
   "execution_count": 38,
   "id": "4f1bc6fb",
   "metadata": {},
   "outputs": [],
   "source": [
    "MBS = MinMaxScaler()"
   ]
  },
  {
   "cell_type": "code",
   "execution_count": 39,
   "id": "09bd3bdb",
   "metadata": {},
   "outputs": [
    {
     "data": {
      "text/plain": [
       "MinMaxScaler()"
      ]
     },
     "execution_count": 39,
     "metadata": {},
     "output_type": "execute_result"
    }
   ],
   "source": [
    "MBS.fit(df[['Phase']])"
   ]
  },
  {
   "cell_type": "code",
   "execution_count": 40,
   "id": "fe3d958d",
   "metadata": {},
   "outputs": [
    {
     "data": {
      "text/plain": [
       "Phase    21499.519956\n",
       "dtype: float64"
      ]
     },
     "execution_count": 40,
     "metadata": {},
     "output_type": "execute_result"
    }
   ],
   "source": [
    "df[['Phase']].mean()"
   ]
  },
  {
   "cell_type": "code",
   "execution_count": 41,
   "id": "bcf5c18c",
   "metadata": {},
   "outputs": [],
   "source": [
    "df[['Phase']] = MBS.transform(df[['Phase']])"
   ]
  },
  {
   "cell_type": "code",
   "execution_count": 42,
   "id": "a0cd084c",
   "metadata": {},
   "outputs": [
    {
     "data": {
      "text/plain": [
       "Phase    0.202603\n",
       "dtype: float64"
      ]
     },
     "execution_count": 42,
     "metadata": {},
     "output_type": "execute_result"
    }
   ],
   "source": [
    "df[['Phase']].mean()"
   ]
  },
  {
   "cell_type": "code",
   "execution_count": 43,
   "id": "2123fcd8",
   "metadata": {},
   "outputs": [],
   "source": [
    "df[['Jitter']] = MBS.fit_transform(df[['Jitter']])"
   ]
  },
  {
   "cell_type": "code",
   "execution_count": 44,
   "id": "a0cd24a5",
   "metadata": {},
   "outputs": [],
   "source": [
    "df[['CloseQuotient']] = MBS.fit_transform(df[['CloseQuotient']])\n",
    "df[['SpeedQuotient']] = MBS.fit_transform(df[['SpeedQuotient']])"
   ]
  },
  {
   "cell_type": "code",
   "execution_count": 45,
   "id": "f1d4be03",
   "metadata": {},
   "outputs": [],
   "source": [
    "s = pd.get_dummies(df[['vowels']])"
   ]
  },
  {
   "cell_type": "code",
   "execution_count": 46,
   "id": "492d0cdc",
   "metadata": {},
   "outputs": [],
   "source": [
    "df = pd.concat([df.drop(['vowels'], axis = 1), s], axis = 1)"
   ]
  },
  {
   "cell_type": "code",
   "execution_count": 47,
   "id": "54886bad",
   "metadata": {},
   "outputs": [],
   "source": [
    "d = df[['Target']]"
   ]
  },
  {
   "cell_type": "code",
   "execution_count": 48,
   "id": "d206e550",
   "metadata": {},
   "outputs": [],
   "source": [
    "df = df.drop(['Target'], axis = 1)\n",
    "df['Target'] = d"
   ]
  },
  {
   "cell_type": "code",
   "execution_count": 49,
   "id": "d010d909",
   "metadata": {},
   "outputs": [],
   "source": [
    "le = LabelEncoder()"
   ]
  },
  {
   "cell_type": "code",
   "execution_count": 50,
   "id": "bc39151c",
   "metadata": {
    "scrolled": true
   },
   "outputs": [],
   "source": [
    "df['Target'] = le.fit_transform(df['Target'])"
   ]
  },
  {
   "cell_type": "code",
   "execution_count": 51,
   "id": "9fe9fd8a",
   "metadata": {},
   "outputs": [
    {
     "data": {
      "text/html": [
       "<div>\n",
       "<style scoped>\n",
       "    .dataframe tbody tr th:only-of-type {\n",
       "        vertical-align: middle;\n",
       "    }\n",
       "\n",
       "    .dataframe tbody tr th {\n",
       "        vertical-align: top;\n",
       "    }\n",
       "\n",
       "    .dataframe thead th {\n",
       "        text-align: right;\n",
       "    }\n",
       "</style>\n",
       "<table border=\"1\" class=\"dataframe\">\n",
       "  <thead>\n",
       "    <tr style=\"text-align: right;\">\n",
       "      <th></th>\n",
       "      <th>Jitter</th>\n",
       "      <th>CloseQuotient</th>\n",
       "      <th>SpeedQuotient</th>\n",
       "      <th>Phase</th>\n",
       "      <th>vowels_a</th>\n",
       "      <th>vowels_e</th>\n",
       "      <th>vowels_o</th>\n",
       "      <th>Target</th>\n",
       "    </tr>\n",
       "  </thead>\n",
       "  <tbody>\n",
       "    <tr>\n",
       "      <th>0</th>\n",
       "      <td>0.012283</td>\n",
       "      <td>0.000072</td>\n",
       "      <td>0.002107</td>\n",
       "      <td>0.000094</td>\n",
       "      <td>1</td>\n",
       "      <td>0</td>\n",
       "      <td>0</td>\n",
       "      <td>0</td>\n",
       "    </tr>\n",
       "    <tr>\n",
       "      <th>1</th>\n",
       "      <td>0.011998</td>\n",
       "      <td>0.000074</td>\n",
       "      <td>0.004017</td>\n",
       "      <td>0.002536</td>\n",
       "      <td>1</td>\n",
       "      <td>0</td>\n",
       "      <td>0</td>\n",
       "      <td>0</td>\n",
       "    </tr>\n",
       "  </tbody>\n",
       "</table>\n",
       "</div>"
      ],
      "text/plain": [
       "     Jitter  CloseQuotient  SpeedQuotient     Phase  vowels_a  vowels_e  \\\n",
       "0  0.012283       0.000072       0.002107  0.000094         1         0   \n",
       "1  0.011998       0.000074       0.004017  0.002536         1         0   \n",
       "\n",
       "   vowels_o  Target  \n",
       "0         0       0  \n",
       "1         0       0  "
      ]
     },
     "execution_count": 51,
     "metadata": {},
     "output_type": "execute_result"
    }
   ],
   "source": [
    "df.head(2) # 0 -> cancer, 1 -> Nodule, 2 -> Paralysis, 3 -> Polyp"
   ]
  },
  {
   "cell_type": "code",
   "execution_count": 52,
   "id": "08a09ece",
   "metadata": {},
   "outputs": [],
   "source": [
    "dataset = df.values"
   ]
  },
  {
   "cell_type": "code",
   "execution_count": 53,
   "id": "fe76108b",
   "metadata": {},
   "outputs": [
    {
     "data": {
      "text/plain": [
       "78145"
      ]
     },
     "execution_count": 53,
     "metadata": {},
     "output_type": "execute_result"
    }
   ],
   "source": [
    "len(dataset)"
   ]
  },
  {
   "cell_type": "code",
   "execution_count": 54,
   "id": "de5b51ca",
   "metadata": {
    "scrolled": true
   },
   "outputs": [
    {
     "data": {
      "text/plain": [
       "array([[1.22831612e-02, 7.17002630e-05, 2.10662594e-03, ...,\n",
       "        0.00000000e+00, 0.00000000e+00, 0.00000000e+00],\n",
       "       [1.19977075e-02, 7.37353590e-05, 4.01747507e-03, ...,\n",
       "        0.00000000e+00, 0.00000000e+00, 0.00000000e+00],\n",
       "       [1.22831612e-02, 7.46496774e-05, 4.17144415e-03, ...,\n",
       "        0.00000000e+00, 0.00000000e+00, 0.00000000e+00],\n",
       "       ...,\n",
       "       [3.70751892e-03, 8.91934787e-05, 4.28079747e-03, ...,\n",
       "        1.00000000e+00, 0.00000000e+00, 3.00000000e+00],\n",
       "       [3.80996078e-03, 8.86675075e-05, 4.28654025e-03, ...,\n",
       "        1.00000000e+00, 0.00000000e+00, 3.00000000e+00],\n",
       "       [3.85386439e-03, 1.59880161e-02, 4.29677837e-03, ...,\n",
       "        1.00000000e+00, 0.00000000e+00, 3.00000000e+00]])"
      ]
     },
     "execution_count": 54,
     "metadata": {},
     "output_type": "execute_result"
    }
   ],
   "source": [
    "dataset"
   ]
  },
  {
   "cell_type": "code",
   "execution_count": 55,
   "id": "547fbba2",
   "metadata": {},
   "outputs": [],
   "source": [
    "X = dataset[:,0:7]\n",
    "Y = dataset[:,7]"
   ]
  },
  {
   "cell_type": "code",
   "execution_count": 136,
   "id": "a8fa09fe",
   "metadata": {},
   "outputs": [],
   "source": [
    "X_train, X_test, Y_train, Y_test = train_test_split(X, Y, test_size=0.3)"
   ]
  },
  {
   "cell_type": "markdown",
   "id": "1bf29d92",
   "metadata": {},
   "source": [
    "# Building and Training Machine Learning Model"
   ]
  },
  {
   "cell_type": "markdown",
   "id": "773f50dc",
   "metadata": {},
   "source": [
    "# SVM"
   ]
  },
  {
   "cell_type": "code",
   "execution_count": 147,
   "id": "10d7b957",
   "metadata": {},
   "outputs": [],
   "source": [
    "from sklearn.svm import SVC"
   ]
  },
  {
   "cell_type": "code",
   "execution_count": 153,
   "id": "ce612125",
   "metadata": {},
   "outputs": [
    {
     "data": {
      "text/plain": [
       "SVC(kernel='sigmoid', random_state=1)"
      ]
     },
     "execution_count": 153,
     "metadata": {},
     "output_type": "execute_result"
    }
   ],
   "source": [
    "classifier = SVC(kernel='rbf', random_state = 1)\n",
    "classifier.fit(X_train,Y_train)"
   ]
  },
  {
   "cell_type": "code",
   "execution_count": 154,
   "id": "7a5cd094",
   "metadata": {},
   "outputs": [],
   "source": [
    "Y_pred = classifier.predict(X_test)"
   ]
  },
  {
   "cell_type": "code",
   "execution_count": 162,
   "id": "bf6d147b",
   "metadata": {},
   "outputs": [
    {
     "name": "stdout",
     "output_type": "stream",
     "text": [
      "\n",
      "Accuracy Of SVM For The Given Dataset :  0.8303830404367856\n"
     ]
    }
   ],
   "source": [
    "from sklearn.metrics import confusion_matrix\n",
    "cm = confusion_matrix(Y_test,Y_pred)\n",
    "accuracy = float(cm.diagonal().sum())/len(Y_test)\n",
    "print(\"\\nAccuracy Of SVM For The Given Dataset : \", accuracy)"
   ]
  },
  {
   "cell_type": "markdown",
   "id": "77c3c4bf",
   "metadata": {},
   "source": [
    "# KNN"
   ]
  },
  {
   "cell_type": "code",
   "execution_count": 163,
   "id": "6c6daa49",
   "metadata": {},
   "outputs": [],
   "source": [
    "# Import necessary modules\n",
    "from sklearn.neighbors import KNeighborsClassifier"
   ]
  },
  {
   "cell_type": "code",
   "execution_count": 189,
   "id": "7282c676",
   "metadata": {},
   "outputs": [],
   "source": [
    "knn = KNeighborsClassifier(n_neighbors=5,)"
   ]
  },
  {
   "cell_type": "code",
   "execution_count": 190,
   "id": "da1bdd9f",
   "metadata": {},
   "outputs": [
    {
     "data": {
      "text/plain": [
       "KNeighborsClassifier(n_neighbors=4)"
      ]
     },
     "execution_count": 190,
     "metadata": {},
     "output_type": "execute_result"
    }
   ],
   "source": [
    "knn.fit(X_train, Y_train)"
   ]
  },
  {
   "cell_type": "code",
   "execution_count": 191,
   "id": "0dc6d866",
   "metadata": {},
   "outputs": [
    {
     "name": "stdout",
     "output_type": "stream",
     "text": [
      "[0. 3. 1. ... 3. 1. 0.]\n"
     ]
    }
   ],
   "source": [
    "print(knn.predict(X_test))"
   ]
  },
  {
   "cell_type": "code",
   "execution_count": 192,
   "id": "59c7a34b",
   "metadata": {},
   "outputs": [
    {
     "name": "stdout",
     "output_type": "stream",
     "text": [
      "0.714639140078485\n"
     ]
    }
   ],
   "source": [
    "print(knn.score(X_test, Y_test))"
   ]
  },
  {
   "cell_type": "code",
   "execution_count": null,
   "id": "3ba43ab8",
   "metadata": {},
   "outputs": [],
   "source": []
  }
 ],
 "metadata": {
  "kernelspec": {
   "display_name": "Python 3 (ipykernel)",
   "language": "python",
   "name": "python3"
  },
  "language_info": {
   "codemirror_mode": {
    "name": "ipython",
    "version": 3
   },
   "file_extension": ".py",
   "mimetype": "text/x-python",
   "name": "python",
   "nbconvert_exporter": "python",
   "pygments_lexer": "ipython3",
   "version": "3.10.2"
  }
 },
 "nbformat": 4,
 "nbformat_minor": 5
}
